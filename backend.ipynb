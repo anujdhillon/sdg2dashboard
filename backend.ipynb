{
 "cells": [
  {
   "cell_type": "code",
   "execution_count": 1,
   "source": [
    "import numpy as np\n",
    "import pandas as pd\n",
    "import xlrd\n",
    "import json\n",
    "import os\n",
    "from flask import Flask, redirect, url_for, request, render_template, session\n",
    "from flask_cors import CORS, cross_origin\n"
   ],
   "outputs": [],
   "metadata": {}
  },
  {
   "cell_type": "code",
   "execution_count": 2,
   "source": [
    "app = Flask(__name__,template_folder='build')\n",
    "cors = CORS(app)\n",
    "app.config['CORS_HEADERS'] = 'Content-Type'\n",
    "app.secret_key = 'aqswdefrgt'\n",
    "TEMPLATES_AUTO_RELOAD = True\n",
    "\n",
    "area = \"Rajasthan\"\n",
    "\n",
    "\n",
    "\n",
    "@app.route(\"/readData\",methods = [\"POST\",\"GET\"])\n",
    "@cross_origin()\n",
    "def readData():\n",
    "    data = {}\n",
    "    targets = pd.read_excel(\"Data.xlsx\",sheet_name=\"targetInfo\")\n",
    "    indicators = pd.read_excel(\"Data.xlsx\",sheet_name=\"indicatorInfo\")\n",
    "    district_data = pd.read_excel(\"Data.xlsx\",sheet_name=\"districtData\")\n",
    "    state_data = pd.read_excel(\"Data.xlsx\",sheet_name=\"stateData\")\n",
    "    data[\"targets\"] = []\n",
    "    data[\"target_indices\"] = {}\n",
    "    data[\"district_indices\"] = {}\n",
    "    data[\"district_names\"] = []\n",
    "    data[\"state_indices\"] = {}\n",
    "    data[\"state_names\"] = []\n",
    "    data[\"infocus\"] = {}\n",
    "    data[\"state_map\"] = json.load(open('IndiaMap.json'))\n",
    "    data[\"district_map\"] = json.load(open(area+\"Map.json\"))\n",
    "    \n",
    "    for i in range(len(district_data[\"District\"])):\n",
    "        data[\"district_indices\"][district_data[\"District\"][i]] = i\n",
    "        data[\"district_names\"].append(district_data[\"District\"][i])\n",
    "    \n",
    "    for i in range(len(state_data[\"State\"])):\n",
    "        data[\"state_indices\"][state_data[\"State\"][i]] = i\n",
    "        data[\"state_names\"].append(state_data[\"State\"][i])\n",
    "\n",
    "    for i in range(len(targets[\"Targets\"])):\n",
    "        target_info = {}\n",
    "        target_info[\"statement\"] = targets[\"Target_Description\"][i]\n",
    "        target_info[\"number\"] = targets[\"Targets\"][i]\n",
    "        target_info[\"motto\"] = targets[\"Motto\"][i]\n",
    "        target_info[\"indicators\"] = []\n",
    "        data[\"targets\"].append(target_info)\n",
    "        data[\"target_indices\"][targets[\"Targets\"][i]] = i\n",
    "    \n",
    "    for i in range(len(indicators[\"Targets\"])):\n",
    "        k = data[\"target_indices\"][indicators[\"Targets\"][i]]\n",
    "        indicator_info = {}\n",
    "        indicator_info[\"number\"] = indicators[\"Indicators\"][i]\n",
    "        indicator_info[\"values\"] = {}\n",
    "        indicator_info[\"values\"][\"state\"] = []\n",
    "        indicator_info[\"values\"][\"district\"] = []\n",
    "        for j in range(len(district_data[indicators[\"Indicators\"][i]])):\n",
    "            indicator_info[\"values\"][\"district\"].append([district_data[indicators[\"Indicators\"][i]][j],j])\n",
    "        for j in range(len(state_data[indicators[\"Indicators\"][i]])):\n",
    "            indicator_info[\"values\"][\"state\"].append([state_data[indicators[\"Indicators\"][i]][j],j])\n",
    "            if(state_data[\"State\"][j] == area):\n",
    "                data[\"infocus\"][indicator_info[\"number\"]] = state_data[indicators[\"Indicators\"][i]][j]\n",
    "        data[\"targets\"][k][\"indicators\"].append(indicator_info)\n",
    "\n",
    "    return json.dumps(data,indent=2)\n",
    "\n",
    "\n",
    "#npm install\n",
    "#npm start\n",
    "\n",
    "if __name__ == '__main__':\n",
    "    app.run(host=\"0.0.0.0\")"
   ],
   "outputs": [
    {
     "output_type": "stream",
     "name": "stdout",
     "text": [
      " * Serving Flask app '__main__' (lazy loading)\n",
      " * Environment: production\n",
      "\u001b[31m   WARNING: This is a development server. Do not use it in a production deployment.\u001b[0m\n",
      "\u001b[2m   Use a production WSGI server instead.\u001b[0m\n",
      " * Debug mode: off\n"
     ]
    },
    {
     "output_type": "stream",
     "name": "stderr",
     "text": [
      " * Running on all addresses.\n",
      "   WARNING: This is a development server. Do not use it in a production deployment.\n",
      " * Running on http://10.0.2.15:5000/ (Press CTRL+C to quit)\n",
      "10.0.2.15 - - [03/Oct/2021 14:26:33] \"GET /readData HTTP/1.1\" 200 -\n",
      "10.0.2.15 - - [03/Oct/2021 14:27:59] \"GET /readData HTTP/1.1\" 200 -\n"
     ]
    }
   ],
   "metadata": {}
  }
 ],
 "metadata": {
  "orig_nbformat": 4,
  "language_info": {
   "name": "python",
   "version": "3.8.10",
   "mimetype": "text/x-python",
   "codemirror_mode": {
    "name": "ipython",
    "version": 3
   },
   "pygments_lexer": "ipython3",
   "nbconvert_exporter": "python",
   "file_extension": ".py"
  },
  "kernelspec": {
   "name": "python3",
   "display_name": "Python 3.8.10 64-bit"
  },
  "interpreter": {
   "hash": "916dbcbb3f70747c44a77c7bcd40155683ae19c65e1c03b4aa3499c5328201f1"
  }
 },
 "nbformat": 4,
 "nbformat_minor": 2
}